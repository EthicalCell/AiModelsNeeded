{
 "cells": [
  {
   "cell_type": "markdown",
   "id": "a6010324-0127-4dd8-93fb-fbaa2288a8f4",
   "metadata": {},
   "source": [
    "### Install & Run Kohya"
   ]
  },
  {
   "cell_type": "code",
   "execution_count": null,
   "id": "0b8e016c-9fe6-4102-bcc8-0f9a8660f36c",
   "metadata": {},
   "outputs": [],
   "source": [
    "%cd /workspace\n",
    "!git clone https://github.com/bmaltais/kohya_ss.git\n",
    "%cd kohya_ss\n",
    "!bash setup-runpod.sh\n"
   ]
  },
  {
   "cell_type": "code",
   "execution_count": null,
   "id": "b670d657-1af8-4da6-a310-ee09c72ba2af",
   "metadata": {},
   "outputs": [],
   "source": [
    "!bash gui.sh --share --headless"
   ]
  }
 ],
 "metadata": {
  "kernelspec": {
   "display_name": "Python 3 (ipykernel)",
   "language": "python",
   "name": "python3"
  },
  "language_info": {
   "codemirror_mode": {
    "name": "ipython",
    "version": 3
   },
   "file_extension": ".py",
   "mimetype": "text/x-python",
   "name": "python",
   "nbconvert_exporter": "python",
   "pygments_lexer": "ipython3",
   "version": "3.10.12"
  }
 },
 "nbformat": 4,
 "nbformat_minor": 5
}
